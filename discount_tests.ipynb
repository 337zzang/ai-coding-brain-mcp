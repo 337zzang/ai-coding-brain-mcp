{
  "cells": [
    {
      "cell_type": "markdown",
      "metadata": {},
      "source": [
        "# 새 노트북\n",
        "AI Coding Brain MCP로 생성됨"
      ]
    },
    {
      "cell_type": "code",
      "execution_count": null,
      "metadata": {},
      "outputs": [],
      "source": [
        "# 코드를 여기에 작성하세요\n",
        "import ai_helpers_new as h"
      ]
    },
    {
      "cell_type": "code",
      "metadata": {},
      "source": [
        "\n",
        "def calculate_discount(price, discount_percent):\n",
        "    \"\"\"Calculate discounted price\"\"\"\n",
        "    if discount_percent > 100:\n",
        "        discount_percent = 100\n",
        "    return price * (1 - discount_percent / 100)\n",
        "\n",
        "# Test function is ready for testing\n",
        "print(\"✅ calculate_discount 함수 정의 완료\")\n",
        "\n"
      ],
      "execution_count": null,
      "outputs": []
    },
    {
      "cell_type": "code",
      "metadata": {},
      "source": [
        "\n",
        "import pytest\n",
        "import sys\n",
        "from typing import List, Tuple\n",
        "import traceback\n",
        "\n",
        "# Test tracking variables\n",
        "test_results = []\n",
        "passed_tests = 0\n",
        "failed_tests = 0\n",
        "coverage_info = {\n",
        "    'lines_covered': 0,\n",
        "    'total_lines': 4,  # Function has 4 lines\n",
        "    'branches_covered': 0,\n",
        "    'total_branches': 2  # if condition creates 2 branches\n",
        "}\n",
        "\n",
        "print(\"📦 테스트 프레임워크 로드 완료\")\n",
        "print(\"🎯 테스트 추적 변수 초기화 완료\")\n",
        "\n"
      ],
      "execution_count": null,
      "outputs": []
    }
  ],
  "metadata": {
    "kernelspec": {
      "display_name": "Python 3",
      "language": "python",
      "name": "python3"
    },
    "language_info": {
      "name": "python",
      "version": "3.8.0"
    }
  },
  "nbformat": 4,
  "nbformat_minor": 5
}